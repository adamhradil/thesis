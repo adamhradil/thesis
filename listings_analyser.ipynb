{
 "cells": [
  {
   "cell_type": "markdown",
   "metadata": {},
   "source": [
    "# Data Loading"
   ]
  },
  {
   "cell_type": "code",
   "execution_count": null,
   "metadata": {},
   "outputs": [],
   "source": [
    "\n",
    "from database_wrapper import DatabaseWrapper\n",
    "from sreality_scraper.sreality.spiders.sreality_spider import SrealityUrlBuilder\n",
    "import pandas as pd\n",
    "import numpy as np\n",
    "import unidecode\n",
    "\n",
    "# get the data from the database\n",
    "db = DatabaseWrapper(\"listings.db\")\n",
    "df = db.get_df()\n",
    "db.close_conn()\n",
    "df"
   ]
  },
  {
   "cell_type": "markdown",
   "metadata": {},
   "source": [
    "# Data Cleaning"
   ]
  },
  {
   "cell_type": "code",
   "execution_count": null,
   "metadata": {},
   "outputs": [],
   "source": [
    "# set id column as index\n",
    "df.set_index(\"id\", inplace=True)"
   ]
  },
  {
   "cell_type": "markdown",
   "metadata": {},
   "source": [
    "## Dispositions"
   ]
  },
  {
   "cell_type": "code",
   "execution_count": null,
   "metadata": {},
   "outputs": [],
   "source": [
    "# print unique disposition values\n",
    "df.disposition.unique()"
   ]
  },
  {
   "cell_type": "code",
   "execution_count": null,
   "metadata": {},
   "outputs": [],
   "source": [
    "# map integers (sreality disposition ids) to strings\n",
    "df.disposition = df.disposition.apply(lambda x: SrealityUrlBuilder.map_category_sub_cb(x) if isinstance(x, int) else x)\n",
    "df.disposition.unique()"
   ]
  },
  {
   "cell_type": "code",
   "execution_count": null,
   "metadata": {},
   "outputs": [],
   "source": [
    "# unify disposition values\n",
    "df.disposition = (\n",
    "    df.disposition.replace(\"Garsoniéra\", \"1+kk\")\n",
    "    .replace(\"Ostatní\", \"other\")\n",
    "    .replace(\"atypicky\", \"other\")\n",
    "    .replace(\"pokoj\", \"other\")\n",
    "    .replace(\"6+kk\", \"6-a-více\")\n",
    "    .replace(\"6+1\", \"6-a-více\")\n",
    "    .replace(\"7+kk\", \"6-a-více\")\n",
    "    .replace(\"7+1\", \"6-a-více\")\n",
    ")\n",
    "df.disposition.unique()"
   ]
  },
  {
   "cell_type": "markdown",
   "metadata": {},
   "source": [
    "## Area"
   ]
  },
  {
   "cell_type": "code",
   "execution_count": null,
   "metadata": {},
   "outputs": [],
   "source": [
    "df.area.sort_values()"
   ]
  },
  {
   "cell_type": "markdown",
   "metadata": {},
   "source": [
    "## Available from"
   ]
  },
  {
   "cell_type": "code",
   "execution_count": null,
   "metadata": {},
   "outputs": [],
   "source": [
    "df.available_from.unique()"
   ]
  },
  {
   "cell_type": "code",
   "execution_count": null,
   "metadata": {},
   "outputs": [],
   "source": [
    "# trim whitespaces\n",
    "df.available_from = df.available_from.str.replace(\" \", \"\")"
   ]
  },
  {
   "cell_type": "code",
   "execution_count": null,
   "metadata": {},
   "outputs": [],
   "source": [
    "# replace \"Ihned\" with last updated date\n",
    "ihned_rows = df[\"available_from\"] == \"Ihned\"\n",
    "df.loc[df[\"available_from\"] == \"Ihned\", \"available_from\"] = pd.to_datetime(\n",
    "    df.loc[df[\"available_from\"] == \"Ihned\", \"updated\"],\n",
    "    format=\"%Y-%m-%d %H:%M:%S.%f\",\n",
    "    errors=\"coerce\",\n",
    ").dt.date"
   ]
  },
  {
   "cell_type": "code",
   "execution_count": null,
   "metadata": {},
   "outputs": [],
   "source": [
    "# try parsing the date for all non empty fields\n",
    "invalid_indices = pd.to_datetime(df.available_from, errors=\"coerce\").isnull()"
   ]
  },
  {
   "cell_type": "code",
   "execution_count": null,
   "metadata": {},
   "outputs": [],
   "source": [
    "invalid_indices = invalid_indices | ihned_rows\n",
    "df.loc[~invalid_indices, \"available_from\"].unique()"
   ]
  },
  {
   "cell_type": "code",
   "execution_count": null,
   "metadata": {},
   "outputs": [],
   "source": [
    "\n",
    "df.loc[~invalid_indices, \"available_from\"] = pd.to_datetime(\n",
    "    df.loc[~invalid_indices, \"available_from\"], format=\"%d.%m.%Y\", errors=\"coerce\",\n",
    ").dt.date"
   ]
  },
  {
   "cell_type": "code",
   "execution_count": null,
   "metadata": {},
   "outputs": [],
   "source": [
    "df.loc[~invalid_indices, \"available_from\"]"
   ]
  },
  {
   "cell_type": "code",
   "execution_count": null,
   "metadata": {},
   "outputs": [],
   "source": [
    "# get all NaT values from available_from\n",
    "df.loc[df.available_from.isnull()]"
   ]
  },
  {
   "cell_type": "markdown",
   "metadata": {},
   "source": [
    "## Balcony"
   ]
  },
  {
   "cell_type": "code",
   "execution_count": null,
   "metadata": {},
   "outputs": [],
   "source": [
    "df.balcony.unique()"
   ]
  },
  {
   "cell_type": "code",
   "execution_count": null,
   "metadata": {},
   "outputs": [],
   "source": [
    "# if there's a mention of balk in the field, then balcony is most likely present\n",
    "df.balcony = df.balcony.apply(lambda x: 1 if isinstance(x, str) and \"balk\" in x.lower() else x)"
   ]
  },
  {
   "cell_type": "code",
   "execution_count": null,
   "metadata": {},
   "outputs": [],
   "source": [
    "df.balcony.unique()"
   ]
  },
  {
   "cell_type": "markdown",
   "metadata": {},
   "source": [
    "## Cellar"
   ]
  },
  {
   "cell_type": "code",
   "execution_count": null,
   "metadata": {},
   "outputs": [],
   "source": [
    "df.cellar.unique()"
   ]
  },
  {
   "cell_type": "code",
   "execution_count": null,
   "metadata": {},
   "outputs": [],
   "source": [
    "df.cellar = df.cellar.apply(lambda x: 1 if isinstance(x, str) and \"sklep\" in x.lower() else x)"
   ]
  },
  {
   "cell_type": "code",
   "execution_count": null,
   "metadata": {},
   "outputs": [],
   "source": [
    "df.cellar.unique()"
   ]
  },
  {
   "cell_type": "markdown",
   "metadata": {},
   "source": [
    "## Balcony"
   ]
  },
  {
   "cell_type": "code",
   "execution_count": null,
   "metadata": {},
   "outputs": [],
   "source": [
    "df.balcony.unique()"
   ]
  },
  {
   "cell_type": "markdown",
   "metadata": {},
   "source": [
    "## Elevator"
   ]
  },
  {
   "cell_type": "code",
   "execution_count": null,
   "metadata": {},
   "outputs": [],
   "source": [
    "df.elevator.unique()"
   ]
  },
  {
   "cell_type": "code",
   "execution_count": null,
   "metadata": {},
   "outputs": [],
   "source": [
    "df.elevator = df.elevator.apply(lambda x: 1 if isinstance(x, str) and \"výtah\" in x.lower() else x).apply(lambda x: 0 if x == 2 else x)"
   ]
  },
  {
   "cell_type": "code",
   "execution_count": null,
   "metadata": {},
   "outputs": [],
   "source": [
    "df.elevator.unique()"
   ]
  },
  {
   "cell_type": "markdown",
   "metadata": {},
   "source": [
    "## Floor"
   ]
  },
  {
   "cell_type": "code",
   "execution_count": null,
   "metadata": {},
   "outputs": [],
   "source": [
    "df.floor.unique()"
   ]
  },
  {
   "cell_type": "code",
   "execution_count": null,
   "metadata": {},
   "outputs": [],
   "source": [
    "df.loc[:, \"floor\"] = df.floor.replace(\". podlaží.*\", \"\", regex=True).replace(\" z celkem.*\", \"\", regex=True)\n",
    "df.floor.unique()"
   ]
  },
  {
   "cell_type": "code",
   "execution_count": null,
   "metadata": {},
   "outputs": [],
   "source": [
    "df.floor = df.floor.apply(lambda x: 0 if x == \"přízemí\" else x).apply(lambda x: np.nan if x == None else int(x))\n",
    "df.floor.unique()"
   ]
  },
  {
   "cell_type": "markdown",
   "metadata": {},
   "source": [
    "## Garden"
   ]
  },
  {
   "cell_type": "code",
   "execution_count": null,
   "metadata": {},
   "outputs": [],
   "source": [
    "df.garden.unique()"
   ]
  },
  {
   "cell_type": "code",
   "execution_count": null,
   "metadata": {},
   "outputs": [],
   "source": [
    "# TODO: remove unidecode and move it to Listings class\n",
    "df.garden = df.garden.apply(lambda x: unidecode.unidecode(x).replace(\"Predzahradka \", \"\").replace(\" m2\", \"\").replace(\" \", \"\").replace(\",\", \".\") if isinstance(x, str) else x).astype(float)\n",
    "df.loc[df.garden.notnull(), \"garden\"]"
   ]
  },
  {
   "cell_type": "markdown",
   "metadata": {},
   "source": [
    "## Furnished"
   ]
  },
  {
   "cell_type": "code",
   "execution_count": null,
   "metadata": {},
   "outputs": [],
   "source": [
    "df[\"furnished\"].unique()"
   ]
  },
  {
   "cell_type": "code",
   "execution_count": null,
   "metadata": {},
   "outputs": [],
   "source": [
    "df.loc[:, \"furnished\"] = (\n",
    "    df[\"furnished\"]\n",
    "    .replace(\"Nevybaveno\", \"nevybaveny\")\n",
    "    .replace(\"Částečně\", \"castecne\")\n",
    "    .replace(\"Vybaveno\", \"vybaveny\")\n",
    ")\n",
    "df.loc[:, \"furnished\"] = df[\"furnished\"].apply(\n",
    "    lambda x: SrealityUrlBuilder.map_furnished_category(x) if isinstance(x, int) else x\n",
    ")"
   ]
  },
  {
   "cell_type": "code",
   "execution_count": null,
   "metadata": {},
   "outputs": [],
   "source": [
    "df[\"furnished\"].unique()"
   ]
  },
  {
   "cell_type": "code",
   "execution_count": null,
   "metadata": {},
   "outputs": [],
   "source": [
    "df.garage.unique()"
   ]
  },
  {
   "cell_type": "code",
   "execution_count": null,
   "metadata": {},
   "outputs": [],
   "source": [
    "df.loc[:, \"garage\"] = df[\"garage\"].replace(\"Garáž.*\", 1, regex=True)\n",
    "df.garage.unique()"
   ]
  },
  {
   "cell_type": "code",
   "execution_count": null,
   "metadata": {},
   "outputs": [],
   "source": [
    "df.loc[:, \"loggie\"] = df[\"garage\"].replace(\"Lodžie.*\", 1, regex=True)\n",
    "df.loggie.unique()"
   ]
  },
  {
   "cell_type": "code",
   "execution_count": null,
   "metadata": {},
   "outputs": [],
   "source": [
    "df.columns"
   ]
  },
  {
   "cell_type": "code",
   "execution_count": null,
   "metadata": {},
   "outputs": [],
   "source": [
    "df.loc[:, \"parking\"] = df[\"parking\"].replace(\n",
    "    \"Parkování.*\", 1, regex=True\n",
    ")  # TODO: fix this\n",
    "df.parking.unique()"
   ]
  },
  {
   "cell_type": "code",
   "execution_count": null,
   "metadata": {},
   "outputs": [],
   "source": [
    "df.loc[:, \"pets\"] = df[\"pets\"].replace(\"Domácí mazlíčci vítáni\", 1, regex=True)\n",
    "df.pets.unique()"
   ]
  },
  {
   "cell_type": "code",
   "execution_count": null,
   "metadata": {},
   "outputs": [],
   "source": [
    "# drop public_transport column\n",
    "df.drop(columns=[\"public_transport\"], inplace=True)"
   ]
  },
  {
   "cell_type": "code",
   "execution_count": null,
   "metadata": {},
   "outputs": [],
   "source": [
    "df.columns"
   ]
  },
  {
   "cell_type": "code",
   "execution_count": null,
   "metadata": {},
   "outputs": [],
   "source": [
    "df.rent.unique()"
   ]
  },
  {
   "cell_type": "code",
   "execution_count": null,
   "metadata": {},
   "outputs": [],
   "source": [
    "df.loc[:, \"rent\"] = df[\"rent\"].apply(\n",
    "    lambda x: (\n",
    "        int(x.replace(\" \", \"\").replace(\"Kč\", \"\").replace(\"€\", \"\"))\n",
    "        if isinstance(x, str)\n",
    "        else x\n",
    "    )\n",
    ")\n",
    "\n",
    "df[\"rent\"].sort_values().unique()"
   ]
  },
  {
   "cell_type": "code",
   "execution_count": null,
   "metadata": {},
   "outputs": [],
   "source": [
    "# 'security_deposit'\n",
    "\n",
    "# print unique security_deposit values for rows wher url contains sreality\n",
    "df.loc[df[\"url\"].str.contains(\"bezrealitky\")][\"security_deposit\"].unique()"
   ]
  },
  {
   "cell_type": "code",
   "execution_count": null,
   "metadata": {},
   "outputs": [],
   "source": [
    "# drop security_deposit column\n",
    "df.drop(columns=[\"security_deposit\"], inplace=True)"
   ]
  },
  {
   "cell_type": "code",
   "execution_count": null,
   "metadata": {},
   "outputs": [],
   "source": [
    "# 'service_fees', 'status', 'terrace', 'type', 'updated', 'url'\n",
    "\n",
    "# unique values for service_fees\n",
    "df.service_fees"
   ]
  },
  {
   "cell_type": "code",
   "execution_count": null,
   "metadata": {},
   "outputs": [],
   "source": [
    "df.drop(columns=[\"service_fees\"], inplace=True)"
   ]
  },
  {
   "cell_type": "code",
   "execution_count": null,
   "metadata": {},
   "outputs": [],
   "source": [
    "# 'status'\n",
    "\n",
    "# unique values for status\n",
    "df.status.unique()"
   ]
  },
  {
   "cell_type": "code",
   "execution_count": null,
   "metadata": {},
   "outputs": [],
   "source": [
    "# 'terrace',\n",
    "df.loc[:, \"terrace\"] = df[\"terrace\"].apply(\n",
    "    lambda x: 1 if isinstance(x, str) and \"Terasa\" in x else x\n",
    ")\n",
    "df.loc[:, \"terrace\"].unique()"
   ]
  },
  {
   "cell_type": "code",
   "execution_count": null,
   "metadata": {},
   "outputs": [],
   "source": [
    "# 'type'\n",
    "df.type.unique()\n",
    "df.loc[:, \"type\"] = df[\"type\"].apply(\n",
    "    lambda x: (\n",
    "        x.replace(\"Cihla\", \"cihlova\")\n",
    "        .replace(\"Panel\", \"panelova\")\n",
    "        .replace(\"Smíšená\", \"ostatni\")\n",
    "        .replace(\"Skeletová\", \"ostatni\")\n",
    "        .replace(\"Nízkoenergetická\", \"ostatni\")\n",
    "        .replace(\"Montovaná\", \"ostatni\")\n",
    "        .replace(\"Dřevostavba\", \"ostatni\")\n",
    "        .replace(\"Kamenná\", \"ostatni\")\n",
    "        .replace(\"Ostatní\", \"ostatni\")\n",
    "        if isinstance(x, str)\n",
    "        else x\n",
    "    )\n",
    ")\n",
    "df.loc[:, \"type\"] = df[\"type\"].apply(\n",
    "    lambda x: SrealityUrlBuilder.map_building_type(x) if isinstance(x, int) else x\n",
    ")\n",
    "df.type.unique()"
   ]
  },
  {
   "cell_type": "code",
   "execution_count": null,
   "metadata": {},
   "outputs": [],
   "source": [
    "df.floor = df.floor.apply(lambda x: int(x) if isinstance(x, str) else x)\n",
    "df.floor"
   ]
  },
  {
   "cell_type": "code",
   "execution_count": null,
   "metadata": {},
   "outputs": [],
   "source": [
    "import sqlite3\n",
    "\n",
    "conn = sqlite3.connect(\"filtered_listings.db\")\n",
    "df.to_sql(\"listings\", conn, if_exists=\"replace\")\n",
    "conn.close()"
   ]
  },
  {
   "cell_type": "code",
   "execution_count": null,
   "metadata": {},
   "outputs": [],
   "source": [
    "excluded_columns = [\n",
    "    \"url\",\n",
    "    \"address\",\n",
    "    \"description\",\n",
    "    \"created\",\n",
    "    \"updated\",\n",
    "    \"last_seen\",\n",
    "    \"gps_lat\",\n",
    "    \"gps_lon\",\n",
    "    \"status\",\n",
    "    \"type\",\n",
    "    \"available_from\",\n",
    "    \"garden\",\n",
    "]\n",
    "\n",
    "mapping = {\n",
    "    \"1+1\": 1,\n",
    "    \"1+kk\": 2,\n",
    "    \"2+1\": 3,\n",
    "    \"2+kk\": 4,\n",
    "    \"3+1\": 5,\n",
    "    \"3+kk\": 6,\n",
    "    \"4+1\": 7,\n",
    "    \"4+kk\": 8,\n",
    "    \"5+kk\": 9,\n",
    "    \"5+1\": 10,\n",
    "    \"Garsoniéra\": 0,\n",
    "    None: 0,\n",
    "    \"Ostatní\": 0,\n",
    "}\n",
    "df.disposition = df.disposition.map(mapping)\n",
    "\n",
    "\n",
    "furnished_mapping = {\"nevybaveny\": 0, \"castecne\": 1, \"vybaveny\": 2}\n",
    "\n",
    "df.furnished = df.furnished.map(furnished_mapping)"
   ]
  },
  {
   "cell_type": "code",
   "execution_count": null,
   "metadata": {},
   "outputs": [],
   "source": [
    "simplified_df = df.drop(columns=excluded_columns)\n",
    "simplified_df"
   ]
  },
  {
   "cell_type": "code",
   "execution_count": null,
   "metadata": {},
   "outputs": [],
   "source": [
    "for col in simplified_df.columns:\n",
    "    print(col)\n",
    "    max_val = simplified_df[col].max()\n",
    "    min_val = simplified_df[col].min()\n",
    "    denominator = max_val - min_val\n",
    "    if denominator == 0:\n",
    "        denominator = 1e-10  # Add a small epsilon value to avoid division by zero\n",
    "    simplified_df[col] = (simplified_df[col] - min_val) / denominator\n",
    "\n",
    "    print(simplified_df[col].value_counts(bins=10, sort=False))\n",
    "\n",
    "# artbitrary weights, change this\n",
    "weights = {\n",
    "    \"area\": 0.2,\n",
    "    \"balcony\": 0.1,\n",
    "    \"cellar\": 0.1,\n",
    "    \"disposition\": 0.3,\n",
    "    \"elevator\": 0.1,\n",
    "    \"floor\": 0.2,\n",
    "    \"furnished\": 0.1,\n",
    "    \"garage\": 0.1,\n",
    "    \"loggie\": 0.1,\n",
    "    \"parking\": 0.1,\n",
    "    \"pets\": 0.1,\n",
    "    \"rent\": 0.2,\n",
    "    \"terrace\": 0.1,\n",
    "}\n",
    "\n",
    "df[\"score\"] = (simplified_df * pd.Series(weights)).sum(axis=1)\n",
    "\n",
    "df"
   ]
  },
  {
   "cell_type": "code",
   "execution_count": null,
   "metadata": {},
   "outputs": [],
   "source": [
    "conn = sqlite3.connect(\"scored_listings.db\")\n",
    "df.to_sql(\"listings\", conn, if_exists=\"replace\")\n",
    "conn.close()"
   ]
  }
 ],
 "metadata": {
  "kernelspec": {
   "display_name": "venv",
   "language": "python",
   "name": "python3"
  },
  "language_info": {
   "codemirror_mode": {
    "name": "ipython",
    "version": 3
   },
   "file_extension": ".py",
   "mimetype": "text/x-python",
   "name": "python",
   "nbconvert_exporter": "python",
   "pygments_lexer": "ipython3",
   "version": "3.10.12"
  }
 },
 "nbformat": 4,
 "nbformat_minor": 2
}
