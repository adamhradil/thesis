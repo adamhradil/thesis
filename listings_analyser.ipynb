{
 "cells": [
  {
   "cell_type": "markdown",
   "metadata": {},
   "source": [
    "# Data Loading"
   ]
  },
  {
   "cell_type": "code",
   "execution_count": null,
   "metadata": {},
   "outputs": [],
   "source": [
    "from database_wrapper import DatabaseWrapper\n",
    "from sreality_scraper.sreality.spiders.sreality_spider import SrealityUrlBuilder\n",
    "import pandas as pd\n",
    "import numpy as np\n",
    "import unidecode\n",
    "\n",
    "# get the data from the database\n",
    "db = DatabaseWrapper(\"listings.db\")\n",
    "df = db.get_df()\n",
    "db.close_conn()\n",
    "df"
   ]
  },
  {
   "cell_type": "markdown",
   "metadata": {},
   "source": [
    "# Data Cleaning"
   ]
  },
  {
   "cell_type": "code",
   "execution_count": null,
   "metadata": {},
   "outputs": [],
   "source": [
    "# set id column as index\n",
    "df.set_index(\"id\", inplace=True)"
   ]
  },
  {
   "cell_type": "code",
   "execution_count": null,
   "metadata": {},
   "outputs": [],
   "source": [
    "# drop public_transport column, it's not useful for now\n",
    "df.drop(columns=[\"public_transport\"], inplace=True)\n",
    "# drop security_deposit column\n",
    "df.drop(columns=[\"security_deposit\"], inplace=True)\n",
    "\n",
    "df.drop(columns=[\"pets\"], inplace=True)\n",
    "df.drop(columns=[\"service_fees\"], inplace=True)"
   ]
  },
  {
   "cell_type": "markdown",
   "metadata": {},
   "source": [
    "## Dispositions"
   ]
  },
  {
   "cell_type": "code",
   "execution_count": null,
   "metadata": {},
   "outputs": [],
   "source": [
    "# print unique disposition values\n",
    "df.disposition.unique()"
   ]
  },
  {
   "cell_type": "code",
   "execution_count": null,
   "metadata": {},
   "outputs": [],
   "source": [
    "# map integers (sreality disposition ids) to strings\n",
    "df.disposition = df.disposition.apply(\n",
    "    lambda x: SrealityUrlBuilder.map_category_sub_cb(x) if isinstance(x, int) else x\n",
    ")\n",
    "df.disposition.unique()"
   ]
  },
  {
   "cell_type": "code",
   "execution_count": null,
   "metadata": {},
   "outputs": [],
   "source": [
    "# unify disposition values\n",
    "df.disposition = (\n",
    "    df.disposition.replace(\"Garsoniéra\", \"1+kk\")\n",
    "    .replace(\"Ostatní\", \"other\")\n",
    "    .replace(\"atypicky\", \"other\")\n",
    "    .replace(\"pokoj\", \"other\")\n",
    "    .replace(\"6+kk\", \"6-a-více\")\n",
    "    .replace(\"6+1\", \"6-a-více\")\n",
    "    .replace(\"7+kk\", \"6-a-více\")\n",
    "    .replace(\"7+1\", \"6-a-více\")\n",
    ")\n",
    "df.disposition.unique()"
   ]
  },
  {
   "cell_type": "markdown",
   "metadata": {},
   "source": [
    "## Area"
   ]
  },
  {
   "cell_type": "code",
   "execution_count": null,
   "metadata": {},
   "outputs": [],
   "source": [
    "df.area.sort_values()"
   ]
  },
  {
   "cell_type": "markdown",
   "metadata": {},
   "source": [
    "## Available from"
   ]
  },
  {
   "cell_type": "code",
   "execution_count": null,
   "metadata": {},
   "outputs": [],
   "source": [
    "df.available_from.unique()"
   ]
  },
  {
   "cell_type": "code",
   "execution_count": null,
   "metadata": {},
   "outputs": [],
   "source": [
    "# trim whitespaces\n",
    "df.available_from = df.available_from.str.replace(\" \", \"\")"
   ]
  },
  {
   "cell_type": "code",
   "execution_count": null,
   "metadata": {},
   "outputs": [],
   "source": [
    "# replace \"Ihned\" with last updated date\n",
    "ihned_rows = df[\"available_from\"] == \"Ihned\"\n",
    "df.loc[df[\"available_from\"] == \"Ihned\", \"available_from\"] = pd.to_datetime(\n",
    "    df.loc[df[\"available_from\"] == \"Ihned\", \"updated\"],\n",
    "    format=\"%Y-%m-%d %H:%M:%S.%f\",\n",
    "    errors=\"coerce\",\n",
    ").dt.date"
   ]
  },
  {
   "cell_type": "code",
   "execution_count": null,
   "metadata": {},
   "outputs": [],
   "source": [
    "# try parsing the date for all non empty fields\n",
    "invalid_indices = pd.to_datetime(df.available_from, errors=\"coerce\").isnull()"
   ]
  },
  {
   "cell_type": "code",
   "execution_count": null,
   "metadata": {},
   "outputs": [],
   "source": [
    "invalid_indices = invalid_indices | ihned_rows\n",
    "df.loc[~invalid_indices, \"available_from\"].unique()"
   ]
  },
  {
   "cell_type": "code",
   "execution_count": null,
   "metadata": {},
   "outputs": [],
   "source": [
    "df.loc[~invalid_indices, \"available_from\"] = pd.to_datetime(\n",
    "    df.loc[~invalid_indices, \"available_from\"],\n",
    "    format=\"%d.%m.%Y\",\n",
    "    errors=\"coerce\",\n",
    ").dt.date"
   ]
  },
  {
   "cell_type": "code",
   "execution_count": null,
   "metadata": {},
   "outputs": [],
   "source": [
    "df.loc[~invalid_indices, \"available_from\"]"
   ]
  },
  {
   "cell_type": "code",
   "execution_count": null,
   "metadata": {},
   "outputs": [],
   "source": [
    "# get all NaT values from available_from\n",
    "df.loc[df.available_from.isnull()]"
   ]
  },
  {
   "cell_type": "markdown",
   "metadata": {},
   "source": [
    "## Balcony"
   ]
  },
  {
   "cell_type": "code",
   "execution_count": null,
   "metadata": {},
   "outputs": [],
   "source": [
    "df.balcony.unique()"
   ]
  },
  {
   "cell_type": "code",
   "execution_count": null,
   "metadata": {},
   "outputs": [],
   "source": [
    "# if there's a mention of balk in the field, then balcony is most likely present\n",
    "df.balcony = df.balcony.apply(\n",
    "    lambda x: 1 if isinstance(x, str) and \"balk\" in x.lower() else x\n",
    ")"
   ]
  },
  {
   "cell_type": "code",
   "execution_count": null,
   "metadata": {},
   "outputs": [],
   "source": [
    "df.balcony.unique()"
   ]
  },
  {
   "cell_type": "markdown",
   "metadata": {},
   "source": [
    "## Cellar"
   ]
  },
  {
   "cell_type": "code",
   "execution_count": null,
   "metadata": {},
   "outputs": [],
   "source": [
    "df.cellar.unique()"
   ]
  },
  {
   "cell_type": "code",
   "execution_count": null,
   "metadata": {},
   "outputs": [],
   "source": [
    "df.cellar = df.cellar.apply(\n",
    "    lambda x: 1 if isinstance(x, str) and \"sklep\" in x.lower() else x\n",
    ")"
   ]
  },
  {
   "cell_type": "code",
   "execution_count": null,
   "metadata": {},
   "outputs": [],
   "source": [
    "df.cellar.unique()"
   ]
  },
  {
   "cell_type": "markdown",
   "metadata": {},
   "source": [
    "## Balcony"
   ]
  },
  {
   "cell_type": "code",
   "execution_count": null,
   "metadata": {},
   "outputs": [],
   "source": [
    "df.balcony.unique()"
   ]
  },
  {
   "cell_type": "markdown",
   "metadata": {},
   "source": [
    "## Elevator"
   ]
  },
  {
   "cell_type": "code",
   "execution_count": null,
   "metadata": {},
   "outputs": [],
   "source": [
    "df.elevator.unique()"
   ]
  },
  {
   "cell_type": "code",
   "execution_count": null,
   "metadata": {},
   "outputs": [],
   "source": [
    "df.elevator = df.elevator.apply(\n",
    "    lambda x: 1 if isinstance(x, str) and \"výtah\" in x.lower() else x\n",
    ").apply(lambda x: 0 if x == 2 else x)"
   ]
  },
  {
   "cell_type": "code",
   "execution_count": null,
   "metadata": {},
   "outputs": [],
   "source": [
    "df.elevator.unique()"
   ]
  },
  {
   "cell_type": "markdown",
   "metadata": {},
   "source": [
    "## Floor"
   ]
  },
  {
   "cell_type": "code",
   "execution_count": null,
   "metadata": {},
   "outputs": [],
   "source": [
    "df.floor.unique()"
   ]
  },
  {
   "cell_type": "code",
   "execution_count": null,
   "metadata": {},
   "outputs": [],
   "source": [
    "df.loc[:, \"floor\"] = df.floor.replace(\". podlaží.*\", \"\", regex=True).replace(\n",
    "    \" z celkem.*\", \"\", regex=True\n",
    ")\n",
    "df.floor.unique()"
   ]
  },
  {
   "cell_type": "code",
   "execution_count": null,
   "metadata": {},
   "outputs": [],
   "source": [
    "df.floor = df.floor.apply(lambda x: 0 if x == \"přízemí\" else x).apply(\n",
    "    lambda x: np.nan if x == None else int(x)\n",
    ")\n",
    "df.floor.unique()"
   ]
  },
  {
   "cell_type": "markdown",
   "metadata": {},
   "source": [
    "## Garden"
   ]
  },
  {
   "cell_type": "code",
   "execution_count": null,
   "metadata": {},
   "outputs": [],
   "source": [
    "df.garden.unique()"
   ]
  },
  {
   "cell_type": "code",
   "execution_count": null,
   "metadata": {},
   "outputs": [],
   "source": [
    "# TODO: remove unidecode and move it to Listings class\n",
    "df.garden = df.garden.apply(\n",
    "    lambda x: (\n",
    "        unidecode.unidecode(x)\n",
    "        .replace(\"Predzahradka \", \"\")\n",
    "        .replace(\" m2\", \"\")\n",
    "        .replace(\" \", \"\")\n",
    "        .replace(\",\", \".\")\n",
    "        if isinstance(x, str)\n",
    "        else x\n",
    "    )\n",
    ").astype(float)\n",
    "df.loc[df.garden.notnull(), \"garden\"]"
   ]
  },
  {
   "cell_type": "markdown",
   "metadata": {},
   "source": [
    "## Furnished"
   ]
  },
  {
   "cell_type": "code",
   "execution_count": null,
   "metadata": {},
   "outputs": [],
   "source": [
    "df.furnished.unique()"
   ]
  },
  {
   "cell_type": "code",
   "execution_count": null,
   "metadata": {},
   "outputs": [],
   "source": [
    "df.furnished = df.furnished.apply(\n",
    "    lambda x: (\n",
    "        x.replace(\"Nevybaveno\", \"2\").replace(\"Částečně\", \"3\").replace(\"Vybaveno\", \"3\")\n",
    "        if isinstance(x, str)\n",
    "        else x\n",
    "    )\n",
    ").apply(lambda x: np.nan if x == None else int(x))"
   ]
  },
  {
   "cell_type": "code",
   "execution_count": null,
   "metadata": {},
   "outputs": [],
   "source": [
    "df.furnished.unique()"
   ]
  },
  {
   "cell_type": "markdown",
   "metadata": {},
   "source": [
    "## Garage"
   ]
  },
  {
   "cell_type": "code",
   "execution_count": null,
   "metadata": {},
   "outputs": [],
   "source": [
    "df.garage.unique()"
   ]
  },
  {
   "cell_type": "code",
   "execution_count": null,
   "metadata": {},
   "outputs": [],
   "source": [
    "df.garage = df.garage.apply(lambda x: 1 if isinstance(x, str) and \"Garáž\" in x else x)\n",
    "df.garage.unique()"
   ]
  },
  {
   "cell_type": "markdown",
   "metadata": {},
   "source": [
    "## Loggie"
   ]
  },
  {
   "cell_type": "code",
   "execution_count": null,
   "metadata": {},
   "outputs": [],
   "source": [
    "df.loggie.unique()"
   ]
  },
  {
   "cell_type": "code",
   "execution_count": null,
   "metadata": {},
   "outputs": [],
   "source": [
    "df.loggie = df.loggie.apply(\n",
    "    lambda x: 1 if isinstance(x, str) and \"Lodžie\" in x else x\n",
    ").astype(float)\n",
    "df.loggie.unique()"
   ]
  },
  {
   "cell_type": "markdown",
   "metadata": {},
   "source": [
    "## Parking"
   ]
  },
  {
   "cell_type": "code",
   "execution_count": null,
   "metadata": {},
   "outputs": [],
   "source": [
    "df.parking.unique()"
   ]
  },
  {
   "cell_type": "code",
   "execution_count": null,
   "metadata": {},
   "outputs": [],
   "source": [
    "df.parking = df.parking.apply(\n",
    "    lambda x: 1 if isinstance(x, str) and \"Parkování\" in x else x\n",
    ").astype(float)\n",
    "df.parking.unique()"
   ]
  },
  {
   "cell_type": "markdown",
   "metadata": {},
   "source": [
    "## Rent"
   ]
  },
  {
   "cell_type": "code",
   "execution_count": null,
   "metadata": {},
   "outputs": [],
   "source": [
    "df.rent.unique()"
   ]
  },
  {
   "cell_type": "code",
   "execution_count": null,
   "metadata": {},
   "outputs": [],
   "source": [
    "df.loc[:, \"rent\"] = df.rent.apply(\n",
    "    lambda x: (\n",
    "        int(x.replace(\" \", \"\").replace(\"Kč\", \"\").replace(\"€\", \"\"))\n",
    "        if isinstance(x, str)\n",
    "        else x\n",
    "    )\n",
    ").astype(float)\n",
    "\n",
    "df.rent.sort_values().unique()"
   ]
  },
  {
   "cell_type": "markdown",
   "metadata": {},
   "source": [
    "## Status"
   ]
  },
  {
   "cell_type": "code",
   "execution_count": null,
   "metadata": {},
   "outputs": [],
   "source": [
    "# 'status'\n",
    "\n",
    "# unique values for status\n",
    "df.status.unique()"
   ]
  },
  {
   "cell_type": "markdown",
   "metadata": {},
   "source": [
    "## Terrace"
   ]
  },
  {
   "cell_type": "code",
   "execution_count": null,
   "metadata": {},
   "outputs": [],
   "source": [
    "df.terrace.unique()"
   ]
  },
  {
   "cell_type": "code",
   "execution_count": null,
   "metadata": {},
   "outputs": [],
   "source": [
    "# 'terrace',\n",
    "df.loc[:, \"terrace\"] = df[\"terrace\"].apply(\n",
    "    lambda x: 1 if isinstance(x, str) and \"Terasa\" in x else x\n",
    ")\n",
    "df.loc[:, \"terrace\"].unique()"
   ]
  },
  {
   "cell_type": "markdown",
   "metadata": {},
   "source": [
    "## Type"
   ]
  },
  {
   "cell_type": "code",
   "execution_count": null,
   "metadata": {},
   "outputs": [],
   "source": [
    "# 'type'\n",
    "df.type.unique()\n",
    "df.loc[:, \"type\"] = df[\"type\"].apply(\n",
    "    lambda x: (\n",
    "        x.replace(\"Cihla\", \"cihlova\")\n",
    "        .replace(\"Panel\", \"panelova\")\n",
    "        .replace(\"Smíšená\", \"ostatni\")\n",
    "        .replace(\"Skeletová\", \"ostatni\")\n",
    "        .replace(\"Nízkoenergetická\", \"ostatni\")\n",
    "        .replace(\"Montovaná\", \"ostatni\")\n",
    "        .replace(\"Dřevostavba\", \"ostatni\")\n",
    "        .replace(\"Kamenná\", \"ostatni\")\n",
    "        .replace(\"Ostatní\", \"ostatni\")\n",
    "        if isinstance(x, str)\n",
    "        else x\n",
    "    )\n",
    ")\n",
    "df.loc[:, \"type\"] = df[\"type\"].apply(\n",
    "    lambda x: SrealityUrlBuilder.map_building_type(x) if isinstance(x, int) else x\n",
    ")\n",
    "df.type.unique()"
   ]
  },
  {
   "cell_type": "markdown",
   "metadata": {},
   "source": [
    "## Floor"
   ]
  },
  {
   "cell_type": "code",
   "execution_count": null,
   "metadata": {},
   "outputs": [],
   "source": [
    "df.floor = df.floor.apply(lambda x: int(x) if isinstance(x, str) else x)\n",
    "df.floor"
   ]
  },
  {
   "cell_type": "markdown",
   "metadata": {},
   "source": [
    "# Saving cleaned Data"
   ]
  },
  {
   "cell_type": "code",
   "execution_count": null,
   "metadata": {},
   "outputs": [],
   "source": [
    "import sqlite3\n",
    "\n",
    "conn = sqlite3.connect(\"filtered_listings.db\")\n",
    "df.to_sql(\"listings\", conn, if_exists=\"replace\")\n",
    "conn.close()"
   ]
  },
  {
   "cell_type": "code",
   "execution_count": null,
   "metadata": {},
   "outputs": [],
   "source": [
    "excluded_columns = [\n",
    "    \"url\",\n",
    "    \"address\",\n",
    "    \"description\",\n",
    "    \"created\",\n",
    "    \"updated\",\n",
    "    \"last_seen\",\n",
    "    \"gps_lat\",\n",
    "    \"gps_lon\",\n",
    "    \"available_from\",\n",
    "]\n",
    "\n",
    "simplified_df = df.drop(columns=excluded_columns)"
   ]
  },
  {
   "cell_type": "code",
   "execution_count": null,
   "metadata": {},
   "outputs": [],
   "source": [
    "mapping = {\n",
    "    \"1+1\": 1,\n",
    "    \"1+kk\": 2,\n",
    "    \"2+1\": 3,\n",
    "    \"2+kk\": 4,\n",
    "    \"3+1\": 5,\n",
    "    \"3+kk\": 6,\n",
    "    \"4+1\": 7,\n",
    "    \"4+kk\": 8,\n",
    "    \"5+kk\": 9,\n",
    "    \"5+1\": 10,\n",
    "    \"6-a-více\": 11,\n",
    "    \"other\": 12,\n",
    "}\n",
    "simplified_df.disposition = simplified_df.disposition.map(mapping)\n",
    "\n",
    "\n",
    "status_mapping = {\n",
    "    \"Projekt\": 1,\n",
    "    \"Ve výstavbě\": 2,\n",
    "    \"Novostavba\": 3,\n",
    "    \"Velmi dobrý\": 4,\n",
    "    \"Dobrý\": 5,\n",
    "    \"V rekonstrukci\": 6,\n",
    "    \"Po rekonstrukci\": 7,\n",
    "    \"Před rekonstrukcí\": 8,\n",
    "}\n",
    "simplified_df.status = simplified_df.status.map(status_mapping)\n",
    "\n",
    "type_mapping = {\n",
    "    \"cihlova\": 1,\n",
    "    \"panelova\": 2,\n",
    "    \"ostatni\": 3,\n",
    "}\n",
    "simplified_df.type = simplified_df.type.map(type_mapping)"
   ]
  },
  {
   "cell_type": "code",
   "execution_count": null,
   "metadata": {},
   "outputs": [],
   "source": [
    "df"
   ]
  },
  {
   "cell_type": "code",
   "execution_count": null,
   "metadata": {},
   "outputs": [],
   "source": [
    "\n",
    "from geopy.distance import distance\n",
    "\n",
    "points_of_interest = [\n",
    "    (50.05621550775834, 14.375253397636566),\n",
    "    (50.09359186439913, 14.451751811130645),\n",
    "    (50.10440744946921, 14.43189170989557),\n",
    "]\n",
    "\n",
    "# https://stackoverflow.com/questions/37885798/how-to-calculate-the-midpoint-of-several-geolocations-in-python\n",
    "x = 0.0\n",
    "y = 0.0\n",
    "z = 0.0\n",
    "\n",
    "for lat, lon in points_of_interest:\n",
    "    latitude = np.radians(lat)\n",
    "    longitude = np.radians(lon)\n",
    "\n",
    "    x += np.cos(latitude) * np.cos(longitude)\n",
    "    y += np.cos(latitude) * np.sin(longitude)\n",
    "    z += np.sin(latitude)\n",
    "\n",
    "total = len(points_of_interest)\n",
    "\n",
    "x = x / total\n",
    "y = y / total\n",
    "z = z / total\n",
    "\n",
    "central_longitude = np.degrees(np.arctan2(y, x))\n",
    "central_square_root = np.sqrt(x * x + y * y)\n",
    "central_latitude = np.degrees(np.arctan2(z, central_square_root))\n",
    "\n",
    "print(f\"{central_latitude}, {central_longitude}\")\n",
    "\n",
    "\n",
    "for i, row in df.iterrows():\n",
    "    df.loc[i, \"poi_distance\"] = distance((central_latitude, central_longitude), (row.gps_lat, row.gps_lon)).m\n",
    "df.poi_distance"
   ]
  },
  {
   "cell_type": "code",
   "execution_count": null,
   "metadata": {},
   "outputs": [],
   "source": [
    "df"
   ]
  },
  {
   "cell_type": "code",
   "execution_count": null,
   "metadata": {},
   "outputs": [],
   "source": [
    "nominal = ['address', 'description', 'disposition', 'status', 'type', 'url']\n",
    "ordinal = ['floor', 'furnished', 'balcony', 'cellar', 'elevator', 'garage', 'garden', 'loggie', 'parking', 'terrace']\n",
    "interval = ['available_from', 'created', 'last_seen', 'updated']\n",
    "ratio = ['area', 'gps_lat', 'gps_lon', 'rent', 'poi_distance']\n"
   ]
  },
  {
   "cell_type": "code",
   "execution_count": null,
   "metadata": {},
   "outputs": [],
   "source": [
    "for col in simplified_df.columns:\n",
    "    print(f\"{col}:\\n{simplified_df[col].sort_values().value_counts()}\\n\")\n",
    "    \n",
    "df"
   ]
  },
  {
   "cell_type": "code",
   "execution_count": null,
   "metadata": {},
   "outputs": [],
   "source": []
  },
  {
   "cell_type": "markdown",
   "metadata": {},
   "source": [
    "# Calculate score"
   ]
  },
  {
   "cell_type": "code",
   "execution_count": null,
   "metadata": {},
   "outputs": [],
   "source": [
    "for col in simplified_df.columns:\n",
    "    print(col)\n",
    "    max_val = simplified_df[col].max()\n",
    "    min_val = simplified_df[col].min()\n",
    "    denominator = max_val - min_val\n",
    "    if denominator == 0:\n",
    "        denominator = 1e-10  # Add a small epsilon value to avoid division by zero\n",
    "    simplified_df[col] = (simplified_df[col] - min_val) / denominator\n",
    "\n",
    "    print(simplified_df[col].value_counts(bins=10, sort=False))\n",
    "\n",
    "# artbitrary weights, change this\n",
    "weights = {\n",
    "    \"area\": 0.2,\n",
    "    \"balcony\": 0.1,\n",
    "    \"cellar\": 0.1,\n",
    "    \"disposition\": 0.3,\n",
    "    \"elevator\": 0.1,\n",
    "    \"floor\": 0.2,\n",
    "    \"furnished\": 0.1,\n",
    "    \"garage\": 0.1,\n",
    "    \"loggie\": 0.1,\n",
    "    \"parking\": 0.1,\n",
    "    \"pets\": 0.1,\n",
    "    \"rent\": 0.2,\n",
    "    \"terrace\": 0.1,\n",
    "}\n",
    "\n",
    "df[\"score\"] = (simplified_df * pd.Series(weights)).sum(axis=1)\n",
    "\n",
    "simplified_df"
   ]
  },
  {
   "cell_type": "code",
   "execution_count": null,
   "metadata": {},
   "outputs": [],
   "source": [
    "conn = sqlite3.connect(\"scored_listings.db\")\n",
    "df.to_sql(\"listings\", conn, if_exists=\"replace\")\n",
    "conn.close()"
   ]
  }
 ],
 "metadata": {
  "kernelspec": {
   "display_name": "venv",
   "language": "python",
   "name": "python3"
  },
  "language_info": {
   "codemirror_mode": {
    "name": "ipython",
    "version": 3
   },
   "file_extension": ".py",
   "mimetype": "text/x-python",
   "name": "python",
   "nbconvert_exporter": "python",
   "pygments_lexer": "ipython3",
   "version": "3.12.2"
  }
 },
 "nbformat": 4,
 "nbformat_minor": 2
}
