{
 "cells": [
  {
   "cell_type": "code",
   "execution_count": null,
   "metadata": {},
   "outputs": [],
   "source": [
    "from database_wrapper import DatabaseWrapper\n",
    "import pandas as pd\n",
    "import numpy as np\n",
    "\n",
    "db = DatabaseWrapper(\"listings.db\")\n",
    "df = db.get_df()\n",
    "db.close_conn()\n",
    "df"
   ]
  },
  {
   "cell_type": "code",
   "execution_count": null,
   "metadata": {},
   "outputs": [],
   "source": [
    "# set id as index\n",
    "df.set_index('id', inplace=True)"
   ]
  },
  {
   "cell_type": "code",
   "execution_count": null,
   "metadata": {},
   "outputs": [],
   "source": [
    "# print unique disposition values\n",
    "print(df[\"disposition\"].unique())\n",
    "dispositions = df[\"disposition\"].unique()"
   ]
  },
  {
   "cell_type": "code",
   "execution_count": null,
   "metadata": {},
   "outputs": [],
   "source": [
    "from sreality_scraper.sreality.spiders.sreality_spider import SrealityUrlBuilder"
   ]
  },
  {
   "cell_type": "code",
   "execution_count": null,
   "metadata": {},
   "outputs": [],
   "source": [
    "# for each unique disposition value try running the map_category_sub_cb from SrealityUrlBuilder\n",
    "for disposition in dispositions:\n",
    "    if not disposition or isinstance(disposition, str):\n",
    "        continue\n",
    "\n",
    "    if isinstance(disposition, int):    \n",
    "        df['disposition'] = df['disposition'].replace(disposition, SrealityUrlBuilder.map_category_sub_cb(disposition))\n",
    "\n",
    "\n",
    "        "
   ]
  },
  {
   "cell_type": "code",
   "execution_count": null,
   "metadata": {},
   "outputs": [],
   "source": [
    "df['disposition'].unique()"
   ]
  },
  {
   "cell_type": "code",
   "execution_count": null,
   "metadata": {},
   "outputs": [],
   "source": [
    "df['disposition'] = df['disposition'].replace('Garsoniéra', '1+kk') # bezrealitky specific\n",
    "df['disposition'] = df['disposition'].replace('Ostatní', 'other') # bezrealitky specific\n",
    "df['disposition'] = df['disposition'].replace('atypicky', 'other') # sreality specific\n",
    "df['disposition'] = df['disposition'].replace('pokoj', 'other') # sreality specific\n",
    "df['disposition'] = df['disposition'].replace('6+kk', '6-a-více')\n",
    "df['disposition'] = df['disposition'].replace('6+1', '6-a-více')\n",
    "df['disposition'] = df['disposition'].replace('7+kk', '6-a-více')\n",
    "df['disposition'] = df['disposition'].replace('7+1', '6-a-více')\n"
   ]
  },
  {
   "cell_type": "code",
   "execution_count": null,
   "metadata": {},
   "outputs": [],
   "source": [
    "df['disposition'].sort_values().unique()"
   ]
  },
  {
   "cell_type": "code",
   "execution_count": null,
   "metadata": {},
   "outputs": [],
   "source": [
    "df"
   ]
  },
  {
   "cell_type": "code",
   "execution_count": null,
   "metadata": {},
   "outputs": [],
   "source": [
    "# drop entries with area bigger than 1000\n",
    "df = df[df['area'] < 1000]\n",
    "df['area'].sort_values()\n"
   ]
  },
  {
   "cell_type": "code",
   "execution_count": null,
   "metadata": {},
   "outputs": [],
   "source": [
    "df.loc[:, 'available_from'] = df['available_from'].str.replace(' ', '')\n"
   ]
  },
  {
   "cell_type": "code",
   "execution_count": null,
   "metadata": {},
   "outputs": [],
   "source": [
    "# Get the indices of rows with invalid date format\n",
    "\n",
    "invalid_indices = pd.to_datetime(df['available_from'], errors='coerce').isnull()\n",
    "# get valid indices\n",
    "\n",
    "df.loc[~invalid_indices, 'available_from'] = pd.to_datetime(df.loc[~invalid_indices, 'available_from'], format='%d.%m.%Y', errors='coerce')\n",
    "df.loc[invalid_indices, 'available_from'].unique()\n",
    "\n"
   ]
  },
  {
   "cell_type": "code",
   "execution_count": null,
   "metadata": {},
   "outputs": [],
   "source": [
    "df.loc[df['available_from'] == 'Ihned', 'available_from'] = pd.to_datetime(df.loc[df['available_from'] == 'Ihned', 'updated'], format=\"%Y-%m-%d %H:%M:%S.%f\", errors='coerce')\n"
   ]
  },
  {
   "cell_type": "code",
   "execution_count": null,
   "metadata": {},
   "outputs": [],
   "source": [
    "# verify available_from column is in datetime format\n",
    "df['available_from'] = pd.to_datetime(df['available_from'], errors='coerce')\n",
    "df['available_from']"
   ]
  },
  {
   "cell_type": "code",
   "execution_count": null,
   "metadata": {},
   "outputs": [],
   "source": [
    "df"
   ]
  },
  {
   "cell_type": "code",
   "execution_count": null,
   "metadata": {},
   "outputs": [],
   "source": [
    "df['balcony'].unique()"
   ]
  },
  {
   "cell_type": "code",
   "execution_count": null,
   "metadata": {},
   "outputs": [],
   "source": [
    "df['balcony'] = df['balcony'].replace('Balk.*', 1, regex=True)\n",
    "df['balcony'] = df['balcony'].replace(np.nan, 0)\n",
    "df['balcony'].unique()"
   ]
  },
  {
   "cell_type": "code",
   "execution_count": null,
   "metadata": {},
   "outputs": [],
   "source": [
    "df"
   ]
  },
  {
   "cell_type": "code",
   "execution_count": null,
   "metadata": {},
   "outputs": [],
   "source": [
    "df['cellar'] = df['cellar'].replace('Sklep.*', 1, regex=True)\n",
    "df['cellar'] = df['cellar'].replace(np.nan, 0)\n",
    "df"
   ]
  },
  {
   "cell_type": "code",
   "execution_count": null,
   "metadata": {},
   "outputs": [],
   "source": [
    "df['elevator'].unique()"
   ]
  },
  {
   "cell_type": "code",
   "execution_count": null,
   "metadata": {},
   "outputs": [],
   "source": [
    "df[df['elevator'] == 2]"
   ]
  },
  {
   "cell_type": "code",
   "execution_count": null,
   "metadata": {},
   "outputs": [],
   "source": [
    "df[df['elevator'] == 'Výtah']"
   ]
  },
  {
   "cell_type": "code",
   "execution_count": null,
   "metadata": {},
   "outputs": [],
   "source": [
    "df['elevator'] = df['elevator'].replace('Výtah.*', 1, regex=True)\n",
    "df['elevator'] = df['elevator'].replace(np.nan, 0)\n",
    "df['elevator'] = df['elevator'].replace(2, 0)\n",
    "df['elevator'].unique()"
   ]
  },
  {
   "cell_type": "code",
   "execution_count": null,
   "metadata": {},
   "outputs": [],
   "source": [
    "df['floor'].sort_values().unique()\n",
    "df['floor'] = df['floor'].replace('. podlaží.*', '', regex=True)\n",
    "df['floor'] = df['floor'].replace(' z celkem.*', '', regex=True)\n",
    "df['floor'] = df['floor'].replace('přízemí', '0', regex=True).astype(int, errors='ignore')\n",
    "df['floor'].sort_values().unique()"
   ]
  },
  {
   "cell_type": "code",
   "execution_count": null,
   "metadata": {},
   "outputs": [],
   "source": [
    "df['front_garden'].unique()"
   ]
  },
  {
   "cell_type": "code",
   "execution_count": null,
   "metadata": {},
   "outputs": [],
   "source": [
    "df['front_garden'] = df['front_garden'].replace('Předzahrádka .*', 1, regex=True)\n",
    "df['front_garden'].unique()"
   ]
  },
  {
   "cell_type": "code",
   "execution_count": null,
   "metadata": {},
   "outputs": [],
   "source": []
  }
 ],
 "metadata": {
  "kernelspec": {
   "display_name": "venv",
   "language": "python",
   "name": "python3"
  },
  "language_info": {
   "codemirror_mode": {
    "name": "ipython",
    "version": 3
   },
   "file_extension": ".py",
   "mimetype": "text/x-python",
   "name": "python",
   "nbconvert_exporter": "python",
   "pygments_lexer": "ipython3",
   "version": "3.10.12"
  }
 },
 "nbformat": 4,
 "nbformat_minor": 2
}
