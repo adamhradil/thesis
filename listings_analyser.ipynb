{
 "cells": [
  {
   "cell_type": "code",
   "execution_count": null,
   "metadata": {},
   "outputs": [],
   "source": [
    "from database_wrapper import DatabaseWrapper\n",
    "from sreality_scraper.sreality.spiders.sreality_spider import SrealityUrlBuilder\n",
    "import pandas as pd\n",
    "import numpy as np\n",
    "\n",
    "db = DatabaseWrapper(\"listings.db\")\n",
    "df = db.get_df()\n",
    "db.close_conn()\n",
    "df"
   ]
  },
  {
   "cell_type": "code",
   "execution_count": null,
   "metadata": {},
   "outputs": [],
   "source": [
    "# set id as index\n",
    "df.set_index('id', inplace=True)"
   ]
  },
  {
   "cell_type": "code",
   "execution_count": null,
   "metadata": {},
   "outputs": [],
   "source": [
    "# print unique disposition values\n",
    "print(df[\"disposition\"].unique())\n",
    "dispositions = df[\"disposition\"].unique()"
   ]
  },
  {
   "cell_type": "code",
   "execution_count": null,
   "metadata": {},
   "outputs": [],
   "source": [
    "# for each unique disposition value try running the map_category_sub_cb from SrealityUrlBuilder\n",
    "for disposition in dispositions:\n",
    "    if not disposition or isinstance(disposition, str):\n",
    "        continue\n",
    "\n",
    "    if isinstance(disposition, int):    \n",
    "        df['disposition'] = df['disposition'].replace(disposition, SrealityUrlBuilder.map_category_sub_cb(disposition))\n",
    "\n",
    "\n",
    "        "
   ]
  },
  {
   "cell_type": "code",
   "execution_count": null,
   "metadata": {},
   "outputs": [],
   "source": [
    "df['disposition'].unique()"
   ]
  },
  {
   "cell_type": "code",
   "execution_count": null,
   "metadata": {},
   "outputs": [],
   "source": [
    "df['disposition'] = df['disposition'].replace('Garsoniéra', '1+kk') # bezrealitky specific\n",
    "df['disposition'] = df['disposition'].replace('Ostatní', 'other') # bezrealitky specific\n",
    "df['disposition'] = df['disposition'].replace('atypicky', 'other') # sreality specific\n",
    "df['disposition'] = df['disposition'].replace('pokoj', 'other') # sreality specific\n",
    "df['disposition'] = df['disposition'].replace('6+kk', '6-a-více')\n",
    "df['disposition'] = df['disposition'].replace('6+1', '6-a-více')\n",
    "df['disposition'] = df['disposition'].replace('7+kk', '6-a-více')\n",
    "df['disposition'] = df['disposition'].replace('7+1', '6-a-více')\n"
   ]
  },
  {
   "cell_type": "code",
   "execution_count": null,
   "metadata": {},
   "outputs": [],
   "source": [
    "df['disposition'].sort_values().unique()"
   ]
  },
  {
   "cell_type": "code",
   "execution_count": null,
   "metadata": {},
   "outputs": [],
   "source": [
    "df"
   ]
  },
  {
   "cell_type": "code",
   "execution_count": null,
   "metadata": {},
   "outputs": [],
   "source": [
    "# drop entries with area bigger than 1000\n",
    "df = df[df['area'] < 1000]\n",
    "df['area'].sort_values()\n"
   ]
  },
  {
   "cell_type": "code",
   "execution_count": null,
   "metadata": {},
   "outputs": [],
   "source": [
    "df.loc[:, 'available_from'] = df['available_from'].str.replace(' ', '')\n"
   ]
  },
  {
   "cell_type": "code",
   "execution_count": null,
   "metadata": {},
   "outputs": [],
   "source": [
    "# Get the indices of rows with invalid date format\n",
    "\n",
    "invalid_indices = pd.to_datetime(df['available_from'], errors='coerce').isnull()\n",
    "# get valid indices\n",
    "\n",
    "df.loc[~invalid_indices, 'available_from'] = pd.to_datetime(df.loc[~invalid_indices, 'available_from'], format='%d.%m.%Y', errors='coerce')\n",
    "df.loc[invalid_indices, 'available_from'].unique()\n",
    "\n"
   ]
  },
  {
   "cell_type": "code",
   "execution_count": null,
   "metadata": {},
   "outputs": [],
   "source": [
    "df.loc[df['available_from'] == 'Ihned', 'available_from'] = pd.to_datetime(df.loc[df['available_from'] == 'Ihned', 'updated'], format=\"%Y-%m-%d %H:%M:%S.%f\", errors='coerce')\n"
   ]
  },
  {
   "cell_type": "code",
   "execution_count": null,
   "metadata": {},
   "outputs": [],
   "source": [
    "# verify available_from column is in datetime format\n",
    "df['available_from'] = pd.to_datetime(df['available_from'], errors='coerce')\n",
    "df['available_from']"
   ]
  },
  {
   "cell_type": "code",
   "execution_count": null,
   "metadata": {},
   "outputs": [],
   "source": [
    "df"
   ]
  },
  {
   "cell_type": "code",
   "execution_count": null,
   "metadata": {},
   "outputs": [],
   "source": [
    "df['balcony'].unique()"
   ]
  },
  {
   "cell_type": "code",
   "execution_count": null,
   "metadata": {},
   "outputs": [],
   "source": [
    "df['balcony'] = df['balcony'].replace('Balk.*', 1, regex=True) # TODO: fix this, the replacement must be ran only on strings\n",
    "df['balcony'] = df['balcony'].replace(np.nan, 0)\n",
    "df['balcony'].unique()"
   ]
  },
  {
   "cell_type": "code",
   "execution_count": null,
   "metadata": {},
   "outputs": [],
   "source": [
    "df"
   ]
  },
  {
   "cell_type": "code",
   "execution_count": null,
   "metadata": {},
   "outputs": [],
   "source": [
    "df['cellar'] = df['cellar'].replace('Sklep.*', 1, regex=True)\n",
    "df['cellar'] = df['cellar'].replace(np.nan, 0)\n",
    "df"
   ]
  },
  {
   "cell_type": "code",
   "execution_count": null,
   "metadata": {},
   "outputs": [],
   "source": [
    "df['elevator'].unique()"
   ]
  },
  {
   "cell_type": "code",
   "execution_count": null,
   "metadata": {},
   "outputs": [],
   "source": [
    "df[df['elevator'] == 2]"
   ]
  },
  {
   "cell_type": "code",
   "execution_count": null,
   "metadata": {},
   "outputs": [],
   "source": [
    "df[df['elevator'] == 'Výtah']"
   ]
  },
  {
   "cell_type": "code",
   "execution_count": null,
   "metadata": {},
   "outputs": [],
   "source": [
    "df.loc[:, 'elevator'] = df['elevator'].replace('Výtah.*', 1, regex=True)\n",
    "df.loc[:, 'elevator'] = df['elevator'].replace(np.nan, 0)\n",
    "df.loc[:, 'elevator'] = df['elevator'].replace(2, 0)\n",
    "df.loc[:, 'elevator'].unique()"
   ]
  },
  {
   "cell_type": "code",
   "execution_count": null,
   "metadata": {},
   "outputs": [],
   "source": [
    "df.loc[:, 'floor'].sort_values().unique()\n",
    "df.loc[:, 'floor'] = df['floor'].replace('. podlaží.*', '', regex=True)\n",
    "df.loc[:, 'floor'] = df['floor'].replace(' z celkem.*', '', regex=True)\n",
    "df.loc[:, 'floor'] = df['floor'].replace('přízemí', '0', regex=True).astype(int, errors='ignore')\n",
    "df.loc[:, 'floor'].sort_values().unique()"
   ]
  },
  {
   "cell_type": "code",
   "execution_count": null,
   "metadata": {},
   "outputs": [],
   "source": [
    "df['front_garden'].unique()"
   ]
  },
  {
   "cell_type": "code",
   "execution_count": null,
   "metadata": {},
   "outputs": [],
   "source": [
    "df.loc[:, 'front_garden'] = df['front_garden'].replace('Předzahrádka .*', 1, regex=True)\n",
    "df.loc[:, 'front_garden'].unique()"
   ]
  },
  {
   "cell_type": "code",
   "execution_count": null,
   "metadata": {},
   "outputs": [],
   "source": [
    "df['furnished'].unique()"
   ]
  },
  {
   "cell_type": "code",
   "execution_count": null,
   "metadata": {},
   "outputs": [],
   "source": [
    "df.loc[:, 'furnished'] = df['furnished'].replace('Nevybaveno', 'nevybaveny').replace('Částečně', 'castecne').replace('Vybaveno', 'vybaveny')\n",
    "df.loc[:, 'furnished'] = df['furnished'].apply(lambda x: SrealityUrlBuilder.map_furnished_category(x) if isinstance(x, int) else x)\n",
    "\n"
   ]
  },
  {
   "cell_type": "code",
   "execution_count": null,
   "metadata": {},
   "outputs": [],
   "source": [
    "df['furnished'].unique()"
   ]
  },
  {
   "cell_type": "code",
   "execution_count": null,
   "metadata": {},
   "outputs": [],
   "source": [
    "df.garage.unique()"
   ]
  },
  {
   "cell_type": "code",
   "execution_count": null,
   "metadata": {},
   "outputs": [],
   "source": [
    "df.loc[:, 'garage'] = df['garage'].replace('Garáž.*', 1, regex=True)\n",
    "df.garage.unique()"
   ]
  },
  {
   "cell_type": "code",
   "execution_count": null,
   "metadata": {},
   "outputs": [],
   "source": [
    "df.loc[:, 'loggie'] = df['garage'].replace('Lodžie.*', 1, regex=True)\n",
    "df.loggie.unique()"
   ]
  },
  {
   "cell_type": "code",
   "execution_count": null,
   "metadata": {},
   "outputs": [],
   "source": [
    "df.columns"
   ]
  },
  {
   "cell_type": "code",
   "execution_count": null,
   "metadata": {},
   "outputs": [],
   "source": [
    "df.loc[:, 'parking'] = df['parking'].replace('Parkování.*', 1, regex=True)\n",
    "df.parking.unique()\n"
   ]
  },
  {
   "cell_type": "code",
   "execution_count": null,
   "metadata": {},
   "outputs": [],
   "source": [
    "df.loc[:, 'pets'] = df['pets'].replace('Domácí mazlíčci vítáni', 1, regex=True)\n",
    "df.pets.unique()"
   ]
  },
  {
   "cell_type": "code",
   "execution_count": null,
   "metadata": {},
   "outputs": [],
   "source": [
    "# drop public_transport column\n",
    "df.drop(columns=['public_transport'], inplace=True)"
   ]
  },
  {
   "cell_type": "code",
   "execution_count": null,
   "metadata": {},
   "outputs": [],
   "source": [
    "df.columns"
   ]
  },
  {
   "cell_type": "code",
   "execution_count": null,
   "metadata": {},
   "outputs": [],
   "source": [
    "df.rent.unique()\n"
   ]
  },
  {
   "cell_type": "code",
   "execution_count": null,
   "metadata": {},
   "outputs": [],
   "source": [
    "df.loc[:, 'rent'] = df['rent'].apply(lambda x: int(x.replace(' ', '').replace('Kč', '').replace('€', '')) if isinstance(x, str) else x)\n",
    "\n",
    "df['rent'].sort_values().unique()"
   ]
  },
  {
   "cell_type": "code",
   "execution_count": null,
   "metadata": {},
   "outputs": [],
   "source": [
    "# 'security_deposit'\n",
    "\n",
    "# print unique security_deposit values for rows wher url contains sreality\n",
    "df.loc[df['url'].str.contains('bezrealitky')]['security_deposit'].unique()"
   ]
  },
  {
   "cell_type": "code",
   "execution_count": null,
   "metadata": {},
   "outputs": [],
   "source": [
    "# drop security_deposit column\n",
    "df.drop(columns=['security_deposit'], inplace=True)"
   ]
  },
  {
   "cell_type": "code",
   "execution_count": null,
   "metadata": {},
   "outputs": [],
   "source": [
    "# 'service_fees', 'status', 'terrace', 'type', 'updated', 'url'\n",
    "\n",
    "# unique values for service_fees\n",
    "df.service_fees"
   ]
  },
  {
   "cell_type": "code",
   "execution_count": null,
   "metadata": {},
   "outputs": [],
   "source": [
    "df.drop(columns=['service_fees'], inplace=True)"
   ]
  },
  {
   "cell_type": "code",
   "execution_count": null,
   "metadata": {},
   "outputs": [],
   "source": [
    "# 'status'\n",
    "\n",
    "# unique values for status\n",
    "df.status.unique()"
   ]
  },
  {
   "cell_type": "code",
   "execution_count": null,
   "metadata": {},
   "outputs": [],
   "source": [
    "# 'terrace', \n",
    "df.loc[:, 'terrace'] = df['terrace'].apply(lambda x: 1 if isinstance(x, str) and \"Terasa\" in x else x)\n",
    "df.loc[:, 'terrace'].unique()"
   ]
  },
  {
   "cell_type": "code",
   "execution_count": null,
   "metadata": {},
   "outputs": [],
   "source": [
    "# 'type'\n",
    "df.type.unique()\n",
    "df.loc[:, 'type'] = df['type'].apply(lambda x: x.replace('Cihla', 'cihlova').replace('Panel', 'panelova').replace('Smíšená', 'ostatni').replace('Skeletová', 'ostatni').replace('Nízkoenergetická', 'ostatni').replace('Montovaná', 'ostatni').replace('Dřevostavba', 'ostatni').replace('Kamenná', 'ostatni').replace('Ostatní', 'ostatni') if isinstance(x, str) else x)\n",
    "df.loc[:, 'type'] = df['type'].apply(lambda x: SrealityUrlBuilder.map_building_type(x) if isinstance(x, int) else x)\n",
    "df.type.unique()"
   ]
  },
  {
   "cell_type": "code",
   "execution_count": null,
   "metadata": {},
   "outputs": [],
   "source": [
    "# save df to filtered a sqlite database without using the databasewrapper\n",
    "import sqlite3\n",
    "conn = sqlite3.connect('filtered_listings.db')\n",
    "df.to_sql('listings', conn, if_exists='replace')\n",
    "conn.close()"
   ]
  }
 ],
 "metadata": {
  "kernelspec": {
   "display_name": "venv",
   "language": "python",
   "name": "python3"
  },
  "language_info": {
   "codemirror_mode": {
    "name": "ipython",
    "version": 3
   },
   "file_extension": ".py",
   "mimetype": "text/x-python",
   "name": "python",
   "nbconvert_exporter": "python",
   "pygments_lexer": "ipython3",
   "version": "3.10.12"
  }
 },
 "nbformat": 4,
 "nbformat_minor": 2
}
