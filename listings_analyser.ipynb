{
 "cells": [
  {
   "cell_type": "code",
   "execution_count": null,
   "metadata": {},
   "outputs": [],
   "source": [
    "from database_wrapper import DatabaseWrapper\n",
    "from sreality_scraper.sreality.spiders.sreality_spider import SrealityUrlBuilder\n",
    "import pandas as pd\n",
    "import numpy as np\n",
    "\n",
    "db = DatabaseWrapper(\"listings.db\")\n",
    "df = db.get_df()\n",
    "db.close_conn()\n",
    "df"
   ]
  },
  {
   "cell_type": "code",
   "execution_count": null,
   "metadata": {},
   "outputs": [],
   "source": [
    "# set id as index\n",
    "df.set_index(\"id\", inplace=True)"
   ]
  },
  {
   "cell_type": "code",
   "execution_count": null,
   "metadata": {},
   "outputs": [],
   "source": [
    "# print unique disposition values\n",
    "print(df[\"disposition\"].unique())\n",
    "dispositions = df[\"disposition\"].unique()"
   ]
  },
  {
   "cell_type": "code",
   "execution_count": null,
   "metadata": {},
   "outputs": [],
   "source": [
    "# for each unique disposition value try running the map_category_sub_cb from SrealityUrlBuilder\n",
    "for disposition in dispositions:\n",
    "    if not disposition or isinstance(disposition, str):\n",
    "        continue\n",
    "\n",
    "    if isinstance(disposition, int):\n",
    "        df[\"disposition\"] = df[\"disposition\"].replace(\n",
    "            disposition, SrealityUrlBuilder.map_category_sub_cb(disposition)\n",
    "        )"
   ]
  },
  {
   "cell_type": "code",
   "execution_count": null,
   "metadata": {},
   "outputs": [],
   "source": [
    "df[\"disposition\"].unique()"
   ]
  },
  {
   "cell_type": "code",
   "execution_count": null,
   "metadata": {},
   "outputs": [],
   "source": [
    "df[\"disposition\"] = df[\"disposition\"].replace(\n",
    "    \"Garsoniéra\", \"1+kk\"\n",
    ")  # bezrealitky specific\n",
    "df[\"disposition\"] = df[\"disposition\"].replace(\n",
    "    \"Ostatní\", \"other\"\n",
    ")  # bezrealitky specific\n",
    "df[\"disposition\"] = df[\"disposition\"].replace(\"atypicky\", \"other\")  # sreality specific\n",
    "df[\"disposition\"] = df[\"disposition\"].replace(\"pokoj\", \"other\")  # sreality specific\n",
    "df[\"disposition\"] = df[\"disposition\"].replace(\"6+kk\", \"6-a-více\")\n",
    "df[\"disposition\"] = df[\"disposition\"].replace(\"6+1\", \"6-a-více\")\n",
    "df[\"disposition\"] = df[\"disposition\"].replace(\"7+kk\", \"6-a-více\")\n",
    "df[\"disposition\"] = df[\"disposition\"].replace(\"7+1\", \"6-a-více\")"
   ]
  },
  {
   "cell_type": "code",
   "execution_count": null,
   "metadata": {},
   "outputs": [],
   "source": [
    "df[\"disposition\"].sort_values().unique()"
   ]
  },
  {
   "cell_type": "code",
   "execution_count": null,
   "metadata": {},
   "outputs": [],
   "source": [
    "df"
   ]
  },
  {
   "cell_type": "code",
   "execution_count": null,
   "metadata": {},
   "outputs": [],
   "source": [
    "# drop entries with area bigger than 1000\n",
    "df = df[df[\"area\"] < 1000]\n",
    "df[\"area\"].sort_values()"
   ]
  },
  {
   "cell_type": "code",
   "execution_count": null,
   "metadata": {},
   "outputs": [],
   "source": [
    "df.loc[:, \"available_from\"] = df[\"available_from\"].str.replace(\" \", \"\")"
   ]
  },
  {
   "cell_type": "code",
   "execution_count": null,
   "metadata": {},
   "outputs": [],
   "source": [
    "# Get the indices of rows with invalid date format\n",
    "\n",
    "invalid_indices = pd.to_datetime(df[\"available_from\"], errors=\"coerce\").isnull()\n",
    "# get valid indices\n",
    "\n",
    "df.loc[~invalid_indices, \"available_from\"] = pd.to_datetime(\n",
    "    df.loc[~invalid_indices, \"available_from\"], format=\"%d.%m.%Y\", errors=\"coerce\"\n",
    ")\n",
    "df.loc[invalid_indices, \"available_from\"].unique()"
   ]
  },
  {
   "cell_type": "code",
   "execution_count": null,
   "metadata": {},
   "outputs": [],
   "source": [
    "df.loc[df[\"available_from\"] == \"Ihned\", \"available_from\"] = pd.to_datetime(\n",
    "    df.loc[df[\"available_from\"] == \"Ihned\", \"updated\"],\n",
    "    format=\"%Y-%m-%d %H:%M:%S.%f\",\n",
    "    errors=\"coerce\",\n",
    ")"
   ]
  },
  {
   "cell_type": "code",
   "execution_count": null,
   "metadata": {},
   "outputs": [],
   "source": [
    "# verify available_from column is in datetime format\n",
    "df[\"available_from\"] = pd.to_datetime(df[\"available_from\"], errors=\"coerce\")\n",
    "df[\"available_from\"]"
   ]
  },
  {
   "cell_type": "code",
   "execution_count": null,
   "metadata": {},
   "outputs": [],
   "source": [
    "df"
   ]
  },
  {
   "cell_type": "code",
   "execution_count": null,
   "metadata": {},
   "outputs": [],
   "source": [
    "df[\"balcony\"].unique()"
   ]
  },
  {
   "cell_type": "code",
   "execution_count": null,
   "metadata": {},
   "outputs": [],
   "source": [
    "df[\"balcony\"] = df[\"balcony\"].replace(\n",
    "    \"Balk.*\", 1, regex=True\n",
    ")  # TODO: fix this, the replacement must be ran only on strings\n",
    "df[\"balcony\"] = df[\"balcony\"].replace(np.nan, 0)\n",
    "df[\"balcony\"].unique()"
   ]
  },
  {
   "cell_type": "code",
   "execution_count": null,
   "metadata": {},
   "outputs": [],
   "source": [
    "df"
   ]
  },
  {
   "cell_type": "code",
   "execution_count": null,
   "metadata": {},
   "outputs": [],
   "source": [
    "df[\"cellar\"] = df[\"cellar\"].replace(\"Sklep.*\", 1, regex=True)\n",
    "df[\"cellar\"] = df[\"cellar\"].replace(np.nan, 0)\n",
    "df"
   ]
  },
  {
   "cell_type": "code",
   "execution_count": null,
   "metadata": {},
   "outputs": [],
   "source": [
    "df[\"elevator\"].unique()"
   ]
  },
  {
   "cell_type": "code",
   "execution_count": null,
   "metadata": {},
   "outputs": [],
   "source": [
    "df[df[\"elevator\"] == 2]"
   ]
  },
  {
   "cell_type": "code",
   "execution_count": null,
   "metadata": {},
   "outputs": [],
   "source": [
    "df[df[\"elevator\"] == \"Výtah\"]"
   ]
  },
  {
   "cell_type": "code",
   "execution_count": null,
   "metadata": {},
   "outputs": [],
   "source": [
    "df.loc[:, \"elevator\"] = df[\"elevator\"].replace(\"Výtah.*\", 1, regex=True)\n",
    "df.loc[:, \"elevator\"] = df[\"elevator\"].replace(np.nan, 0)\n",
    "df.loc[:, \"elevator\"] = df[\"elevator\"].replace(2, 0)\n",
    "df.loc[:, \"elevator\"].unique()"
   ]
  },
  {
   "cell_type": "code",
   "execution_count": null,
   "metadata": {},
   "outputs": [],
   "source": [
    "df.loc[:, \"floor\"].sort_values().unique()\n",
    "df.loc[:, \"floor\"] = df[\"floor\"].replace(\". podlaží.*\", \"\", regex=True)\n",
    "df.loc[:, \"floor\"] = df[\"floor\"].replace(\" z celkem.*\", \"\", regex=True)\n",
    "df.loc[:, \"floor\"] = (\n",
    "    df[\"floor\"].replace(\"přízemí\", \"0\", regex=True).astype(int, errors=\"ignore\")\n",
    ")\n",
    "df.loc[:, \"floor\"].sort_values().unique()"
   ]
  },
  {
   "cell_type": "code",
   "execution_count": null,
   "metadata": {},
   "outputs": [],
   "source": [
    "df[\"front_garden\"].unique()"
   ]
  },
  {
   "cell_type": "code",
   "execution_count": null,
   "metadata": {},
   "outputs": [],
   "source": [
    "df.loc[:, \"front_garden\"] = df[\"front_garden\"].replace(\"Předzahrádka .*\", 1, regex=True)\n",
    "df.loc[:, \"front_garden\"].unique()"
   ]
  },
  {
   "cell_type": "code",
   "execution_count": null,
   "metadata": {},
   "outputs": [],
   "source": [
    "df[\"furnished\"].unique()"
   ]
  },
  {
   "cell_type": "code",
   "execution_count": null,
   "metadata": {},
   "outputs": [],
   "source": [
    "df.loc[:, \"furnished\"] = (\n",
    "    df[\"furnished\"]\n",
    "    .replace(\"Nevybaveno\", \"nevybaveny\")\n",
    "    .replace(\"Částečně\", \"castecne\")\n",
    "    .replace(\"Vybaveno\", \"vybaveny\")\n",
    ")\n",
    "df.loc[:, \"furnished\"] = df[\"furnished\"].apply(\n",
    "    lambda x: SrealityUrlBuilder.map_furnished_category(x) if isinstance(x, int) else x\n",
    ")"
   ]
  },
  {
   "cell_type": "code",
   "execution_count": null,
   "metadata": {},
   "outputs": [],
   "source": [
    "df[\"furnished\"].unique()"
   ]
  },
  {
   "cell_type": "code",
   "execution_count": null,
   "metadata": {},
   "outputs": [],
   "source": [
    "df.garage.unique()"
   ]
  },
  {
   "cell_type": "code",
   "execution_count": null,
   "metadata": {},
   "outputs": [],
   "source": [
    "df.loc[:, \"garage\"] = df[\"garage\"].replace(\"Garáž.*\", 1, regex=True)\n",
    "df.garage.unique()"
   ]
  },
  {
   "cell_type": "code",
   "execution_count": null,
   "metadata": {},
   "outputs": [],
   "source": [
    "df.loc[:, \"loggie\"] = df[\"garage\"].replace(\"Lodžie.*\", 1, regex=True)\n",
    "df.loggie.unique()"
   ]
  },
  {
   "cell_type": "code",
   "execution_count": null,
   "metadata": {},
   "outputs": [],
   "source": [
    "df.columns"
   ]
  },
  {
   "cell_type": "code",
   "execution_count": null,
   "metadata": {},
   "outputs": [],
   "source": [
    "df.loc[:, \"parking\"] = df[\"parking\"].replace(\n",
    "    \"Parkování.*\", 1, regex=True\n",
    ")  # TODO: fix this\n",
    "df.parking.unique()"
   ]
  },
  {
   "cell_type": "code",
   "execution_count": null,
   "metadata": {},
   "outputs": [],
   "source": [
    "df.loc[:, \"pets\"] = df[\"pets\"].replace(\"Domácí mazlíčci vítáni\", 1, regex=True)\n",
    "df.pets.unique()"
   ]
  },
  {
   "cell_type": "code",
   "execution_count": null,
   "metadata": {},
   "outputs": [],
   "source": [
    "# drop public_transport column\n",
    "df.drop(columns=[\"public_transport\"], inplace=True)"
   ]
  },
  {
   "cell_type": "code",
   "execution_count": null,
   "metadata": {},
   "outputs": [],
   "source": [
    "df.columns"
   ]
  },
  {
   "cell_type": "code",
   "execution_count": null,
   "metadata": {},
   "outputs": [],
   "source": [
    "df.rent.unique()"
   ]
  },
  {
   "cell_type": "code",
   "execution_count": null,
   "metadata": {},
   "outputs": [],
   "source": [
    "df.loc[:, \"rent\"] = df[\"rent\"].apply(\n",
    "    lambda x: (\n",
    "        int(x.replace(\" \", \"\").replace(\"Kč\", \"\").replace(\"€\", \"\"))\n",
    "        if isinstance(x, str)\n",
    "        else x\n",
    "    )\n",
    ")\n",
    "\n",
    "df[\"rent\"].sort_values().unique()"
   ]
  },
  {
   "cell_type": "code",
   "execution_count": null,
   "metadata": {},
   "outputs": [],
   "source": [
    "# 'security_deposit'\n",
    "\n",
    "# print unique security_deposit values for rows wher url contains sreality\n",
    "df.loc[df[\"url\"].str.contains(\"bezrealitky\")][\"security_deposit\"].unique()"
   ]
  },
  {
   "cell_type": "code",
   "execution_count": null,
   "metadata": {},
   "outputs": [],
   "source": [
    "# drop security_deposit column\n",
    "df.drop(columns=[\"security_deposit\"], inplace=True)"
   ]
  },
  {
   "cell_type": "code",
   "execution_count": null,
   "metadata": {},
   "outputs": [],
   "source": [
    "# 'service_fees', 'status', 'terrace', 'type', 'updated', 'url'\n",
    "\n",
    "# unique values for service_fees\n",
    "df.service_fees"
   ]
  },
  {
   "cell_type": "code",
   "execution_count": null,
   "metadata": {},
   "outputs": [],
   "source": [
    "df.drop(columns=[\"service_fees\"], inplace=True)"
   ]
  },
  {
   "cell_type": "code",
   "execution_count": null,
   "metadata": {},
   "outputs": [],
   "source": [
    "# 'status'\n",
    "\n",
    "# unique values for status\n",
    "df.status.unique()"
   ]
  },
  {
   "cell_type": "code",
   "execution_count": null,
   "metadata": {},
   "outputs": [],
   "source": [
    "# 'terrace',\n",
    "df.loc[:, \"terrace\"] = df[\"terrace\"].apply(\n",
    "    lambda x: 1 if isinstance(x, str) and \"Terasa\" in x else x\n",
    ")\n",
    "df.loc[:, \"terrace\"].unique()"
   ]
  },
  {
   "cell_type": "code",
   "execution_count": null,
   "metadata": {},
   "outputs": [],
   "source": [
    "# 'type'\n",
    "df.type.unique()\n",
    "df.loc[:, \"type\"] = df[\"type\"].apply(\n",
    "    lambda x: (\n",
    "        x.replace(\"Cihla\", \"cihlova\")\n",
    "        .replace(\"Panel\", \"panelova\")\n",
    "        .replace(\"Smíšená\", \"ostatni\")\n",
    "        .replace(\"Skeletová\", \"ostatni\")\n",
    "        .replace(\"Nízkoenergetická\", \"ostatni\")\n",
    "        .replace(\"Montovaná\", \"ostatni\")\n",
    "        .replace(\"Dřevostavba\", \"ostatni\")\n",
    "        .replace(\"Kamenná\", \"ostatni\")\n",
    "        .replace(\"Ostatní\", \"ostatni\")\n",
    "        if isinstance(x, str)\n",
    "        else x\n",
    "    )\n",
    ")\n",
    "df.loc[:, \"type\"] = df[\"type\"].apply(\n",
    "    lambda x: SrealityUrlBuilder.map_building_type(x) if isinstance(x, int) else x\n",
    ")\n",
    "df.type.unique()"
   ]
  },
  {
   "cell_type": "code",
   "execution_count": null,
   "metadata": {},
   "outputs": [],
   "source": [
    "df.floor = df.floor.apply(lambda x: int(x) if isinstance(x, str) else x)\n",
    "df.floor"
   ]
  },
  {
   "cell_type": "code",
   "execution_count": null,
   "metadata": {},
   "outputs": [],
   "source": [
    "import sqlite3\n",
    "\n",
    "conn = sqlite3.connect(\"filtered_listings.db\")\n",
    "df.to_sql(\"listings\", conn, if_exists=\"replace\")\n",
    "conn.close()"
   ]
  },
  {
   "cell_type": "code",
   "execution_count": null,
   "metadata": {},
   "outputs": [],
   "source": [
    "excluded_columns = [\n",
    "    \"url\",\n",
    "    \"address\",\n",
    "    \"description\",\n",
    "    \"created\",\n",
    "    \"updated\",\n",
    "    \"last_seen\",\n",
    "    \"gps_lat\",\n",
    "    \"gps_lon\",\n",
    "    \"status\",\n",
    "    \"type\",\n",
    "    \"available_from\",\n",
    "    \"front_garden\",\n",
    "]\n",
    "\n",
    "mapping = {\n",
    "    \"1+1\": 1,\n",
    "    \"1+kk\": 2,\n",
    "    \"2+1\": 3,\n",
    "    \"2+kk\": 4,\n",
    "    \"3+1\": 5,\n",
    "    \"3+kk\": 6,\n",
    "    \"4+1\": 7,\n",
    "    \"4+kk\": 8,\n",
    "    \"5+kk\": 9,\n",
    "    \"5+1\": 10,\n",
    "    \"Garsoniéra\": 0,\n",
    "    None: 0,\n",
    "    \"Ostatní\": 0,\n",
    "}\n",
    "df.disposition = df.disposition.map(mapping)\n",
    "\n",
    "\n",
    "furnished_mapping = {\"nevybaveny\": 0, \"castecne\": 1, \"vybaveny\": 2}\n",
    "\n",
    "df.furnished = df.furnished.map(furnished_mapping)"
   ]
  },
  {
   "cell_type": "code",
   "execution_count": null,
   "metadata": {},
   "outputs": [],
   "source": [
    "simplified_df = df.drop(columns=excluded_columns)\n",
    "simplified_df"
   ]
  },
  {
   "cell_type": "code",
   "execution_count": null,
   "metadata": {},
   "outputs": [],
   "source": [
    "for col in simplified_df.columns:\n",
    "    print(col)\n",
    "    max_val = simplified_df[col].max()\n",
    "    min_val = simplified_df[col].min()\n",
    "    denominator = max_val - min_val\n",
    "    if denominator == 0:\n",
    "        denominator = 1e-10  # Add a small epsilon value to avoid division by zero\n",
    "    simplified_df[col] = (simplified_df[col] - min_val) / denominator\n",
    "\n",
    "    print(simplified_df[col].value_counts(bins=10, sort=False))\n",
    "\n",
    "# artbitrary weights, change this\n",
    "weights = {\n",
    "    \"area\": 0.2,\n",
    "    \"balcony\": 0.1,\n",
    "    \"cellar\": 0.1,\n",
    "    \"disposition\": 0.3,\n",
    "    \"elevator\": 0.1,\n",
    "    \"floor\": 0.2,\n",
    "    \"furnished\": 0.1,\n",
    "    \"garage\": 0.1,\n",
    "    \"loggie\": 0.1,\n",
    "    \"parking\": 0.1,\n",
    "    \"pets\": 0.1,\n",
    "    \"rent\": 0.2,\n",
    "    \"terrace\": 0.1,\n",
    "}\n",
    "\n",
    "df[\"score\"] = (simplified_df * pd.Series(weights)).sum(axis=1)\n",
    "\n",
    "df"
   ]
  },
  {
   "cell_type": "code",
   "execution_count": null,
   "metadata": {},
   "outputs": [],
   "source": [
    "conn = sqlite3.connect(\"scored_listings.db\")\n",
    "df.to_sql(\"listings\", conn, if_exists=\"replace\")\n",
    "conn.close()"
   ]
  }
 ],
 "metadata": {
  "kernelspec": {
   "display_name": "venv",
   "language": "python",
   "name": "python3"
  },
  "language_info": {
   "codemirror_mode": {
    "name": "ipython",
    "version": 3
   },
   "file_extension": ".py",
   "mimetype": "text/x-python",
   "name": "python",
   "nbconvert_exporter": "python",
   "pygments_lexer": "ipython3",
   "version": "3.10.12"
  }
 },
 "nbformat": 4,
 "nbformat_minor": 2
}
