{
 "cells": [
  {
   "cell_type": "code",
   "execution_count": null,
   "metadata": {},
   "outputs": [],
   "source": [
    "from database_wrapper import DatabaseWrapper\n",
    "\n",
    "db = DatabaseWrapper(\"listings.db\")\n",
    "df = db.get_df()\n",
    "db.close_conn()\n",
    "df"
   ]
  },
  {
   "cell_type": "code",
   "execution_count": null,
   "metadata": {},
   "outputs": [],
   "source": [
    "# print unique disposition values\n",
    "print(df[\"disposition\"].unique())\n",
    "dispositions = df[\"disposition\"].unique()"
   ]
  },
  {
   "cell_type": "code",
   "execution_count": null,
   "metadata": {},
   "outputs": [],
   "source": [
    "from sreality_scraper.sreality.spiders.sreality_spider import SrealityUrlBuilder"
   ]
  },
  {
   "cell_type": "code",
   "execution_count": null,
   "metadata": {},
   "outputs": [],
   "source": [
    "# for each unique disposition value try running the map_category_sub_cb from SrealityUrlBuilder\n",
    "for disposition in dispositions:\n",
    "    if not disposition:\n",
    "        continue\n",
    "    \n",
    "    df['disposition'] = df['disposition'].replace(disposition, SrealityUrlBuilder.map_category_sub_cb(disposition))\n",
    "\n",
    "        "
   ]
  },
  {
   "cell_type": "code",
   "execution_count": null,
   "metadata": {},
   "outputs": [],
   "source": [
    "df['disposition'].unique()"
   ]
  },
  {
   "cell_type": "code",
   "execution_count": null,
   "metadata": {},
   "outputs": [],
   "source": [
    "df['disposition'] = df['disposition'].replace('Garsoniéra', '1+kk') # bezrealitky specific\n",
    "df['disposition'] = df['disposition'].replace('Ostatní', 'ostatní') # bezrealitky specific\n",
    "df['disposition'] = df['disposition'].replace('atypicky', 'ostatní') # sreality specific\n",
    "df['disposition'] = df['disposition'].replace('pokoj', 'ostatní') # sreality specific\n",
    "df['disposition'] = df['disposition'].replace('6+kk', '6-a-více')\n",
    "df['disposition'] = df['disposition'].replace('6+1', '6-a-více')\n",
    "df['disposition'] = df['disposition'].replace('7+kk', '6-a-více')\n",
    "df['disposition'] = df['disposition'].replace('7+1', '6-a-více')\n"
   ]
  },
  {
   "cell_type": "code",
   "execution_count": null,
   "metadata": {},
   "outputs": [],
   "source": [
    "df['disposition'].sort_values().unique()"
   ]
  },
  {
   "cell_type": "code",
   "execution_count": null,
   "metadata": {},
   "outputs": [],
   "source": [
    "df"
   ]
  },
  {
   "cell_type": "code",
   "execution_count": null,
   "metadata": {},
   "outputs": [],
   "source": [
    "# drop entries with area bigger than 1000\n",
    "df = df[df['area'] < 1000]\n",
    "df['area'].sort_values()\n"
   ]
  }
 ],
 "metadata": {
  "kernelspec": {
   "display_name": "venv",
   "language": "python",
   "name": "python3"
  },
  "language_info": {
   "codemirror_mode": {
    "name": "ipython",
    "version": 3
   },
   "file_extension": ".py",
   "mimetype": "text/x-python",
   "name": "python",
   "nbconvert_exporter": "python",
   "pygments_lexer": "ipython3",
   "version": "3.10.12"
  }
 },
 "nbformat": 4,
 "nbformat_minor": 2
}
